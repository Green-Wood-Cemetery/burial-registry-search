{
 "cells": [
  {
   "attachments": {},
   "cell_type": "markdown",
   "metadata": {},
   "source": [
    "# Exploratory Data Analysis of the Greenwood Data"
   ]
  },
  {
   "attachments": {},
   "cell_type": "markdown",
   "metadata": {},
   "source": [
    "This Exploratory Data Analysis is being done to help with the spot check of certain columns to identify data that needs to be fixed.\n",
    "\n",
    "We will follow the steps below:\n",
    "- Load all the volumes data into one DataFrame\n",
    "- Select the columns that we are going to work on\n",
    "- Identify the unique values on each column with the counts\n",
    "- Will select the burial records that contains the cases we want to fix\n",
    "- Fix the records\n",
    "- Generate a new json file with the fixes to update our interments index"
   ]
  },
  {
   "attachments": {},
   "cell_type": "markdown",
   "metadata": {},
   "source": [
    "## Initializing the Notebook"
   ]
  },
  {
   "cell_type": "code",
   "execution_count": 5,
   "metadata": {},
   "outputs": [
    {
     "name": "stdout",
     "output_type": "stream",
     "text": [
      "The sql extension is already loaded. To reload it, use:\n",
      "  %reload_ext sql\n"
     ]
    }
   ],
   "source": [
    "import pandas as pd\n",
    "import os\n",
    "import duckdb\n",
    "\n",
    "%load_ext sql"
   ]
  },
  {
   "attachments": {},
   "cell_type": "markdown",
   "metadata": {},
   "source": [
    "### Initialize the sql database"
   ]
  },
  {
   "cell_type": "code",
   "execution_count": 6,
   "metadata": {},
   "outputs": [],
   "source": [
    "%sql duckdb:///sqlite/db.duckdb\n",
    "\n",
    "%sql SET GLOBAL pandas_analyze_sample=600000\n",
    "\n",
    "%config SqlMagic.feedback = False\n",
    "%config SqlMagic.displaycon = False\n",
    "\n",
    "load_volumes = False"
   ]
  },
  {
   "attachments": {},
   "cell_type": "markdown",
   "metadata": {},
   "source": [
    "## Loading all volumes"
   ]
  },
  {
   "attachments": {},
   "cell_type": "markdown",
   "metadata": {},
   "source": [
    "We are going to load all volumes json files into one single in memory structure called DataFrame, that will give us analytical capabilities to identify the values on each column and to fix, if needed."
   ]
  },
  {
   "cell_type": "code",
   "execution_count": 7,
   "metadata": {},
   "outputs": [],
   "source": [
    "if load_volumes:\n",
    "  records = []\n",
    "  for file in os.listdir('json'):\n",
    "    records.append(pd.read_json(os.path.join('json',file)))\n",
    "\n",
    "  df = pd.concat(records)"
   ]
  },
  {
   "attachments": {},
   "cell_type": "markdown",
   "metadata": {},
   "source": [
    "Now, we are going to import into duckdb, to be able to use SQL to do our validation."
   ]
  },
  {
   "cell_type": "code",
   "execution_count": 8,
   "metadata": {},
   "outputs": [],
   "source": [
    "if load_volumes:\n",
    "  %sql drop table if exists interments;\n",
    "\n",
    "  %sql create table interments as select * from df;"
   ]
  },
  {
   "attachments": {},
   "cell_type": "markdown",
   "metadata": {},
   "source": [
    "## Identify Columns to Work"
   ]
  },
  {
   "attachments": {},
   "cell_type": "markdown",
   "metadata": {},
   "source": [
    "Our first step to identify the columns we want to work with. We will do this by looking the columns in the search filters of the website.\n",
    "The columns we identify there are:\n",
    "- date of interment\n",
    "- birthplace\n",
    "- marital status\n",
    "- age at death\n",
    "- late residence\n",
    "- place of death\n",
    "- cause of death\n",
    "- date of death\n",
    "- undertaker\n",
    "- burial registry\n",
    "- lot number"
   ]
  },
  {
   "attachments": {},
   "cell_type": "markdown",
   "metadata": {},
   "source": [
    "Next step is to list the columns on our DataFrame."
   ]
  },
  {
   "cell_type": "code",
   "execution_count": 9,
   "metadata": {},
   "outputs": [],
   "source": [
    "if load_volumes:\n",
    "  columns = df.columns.to_list()\n",
    "\n",
    "  for idx, column in enumerate(columns):\n",
    "    print(column,end=', ')\n",
    "    if (idx+1) % 7 == 0:\n",
    "        print('')"
   ]
  },
  {
   "attachments": {},
   "cell_type": "markdown",
   "metadata": {},
   "source": [
    "Now, we are going to map the columns we want.\n",
    "- date of interment = interment_date_year_transcribed\n",
    "- birthplace = birth_place_displayed\n",
    "- marital status = marital_status\n",
    "- age at death = age_years\n",
    "- late residence = residence_place_city_display\n",
    "- place of death = death_place_display\n",
    "- cause of death = cause_of_death_display\n",
    "- date of death = death_date_year_transcribed\n",
    "- undertaker = undertaker_display\n",
    "- burial registry = interment_id, registry_volume\n",
    "- lot number = urial_location_lot_current\n"
   ]
  },
  {
   "attachments": {},
   "cell_type": "markdown",
   "metadata": {},
   "source": [
    "Now, we are going to work with SQL statements to discover issues with the data on those fields."
   ]
  },
  {
   "attachments": {},
   "cell_type": "markdown",
   "metadata": {},
   "source": [
    "### Scratchpad"
   ]
  },
  {
   "cell_type": "code",
   "execution_count": 10,
   "metadata": {},
   "outputs": [
    {
     "data": {
      "text/html": [
       "<table>\n",
       "    <thead>\n",
       "        <tr>\n",
       "            <th>cause_of_death</th>\n",
       "            <th>records</th>\n",
       "        </tr>\n",
       "    </thead>\n",
       "    <tbody>\n",
       "        <tr>\n",
       "            <td>None</td>\n",
       "            <td>14530</td>\n",
       "        </tr>\n",
       "        <tr>\n",
       "            <td>&amp; Bese</td>\n",
       "            <td>1</td>\n",
       "        </tr>\n",
       "        <tr>\n",
       "            <td>&amp; Prolonged Labor</td>\n",
       "            <td>1</td>\n",
       "        </tr>\n",
       "        <tr>\n",
       "            <td>(1) Old Age (2) Diarrhoea </td>\n",
       "            <td>1</td>\n",
       "        </tr>\n",
       "        <tr>\n",
       "            <td>(Accidental) Mercury Bichloride</td>\n",
       "            <td>1</td>\n",
       "        </tr>\n",
       "        <tr>\n",
       "            <td>(Charity Hospital) Brights </td>\n",
       "            <td>1</td>\n",
       "        </tr>\n",
       "        <tr>\n",
       "            <td>(Heart Failure ) Typhoid Fever</td>\n",
       "            <td>1</td>\n",
       "        </tr>\n",
       "        <tr>\n",
       "            <td>(Non Contagious)</td>\n",
       "            <td>1</td>\n",
       "        </tr>\n",
       "        <tr>\n",
       "            <td>(Post Operation) Exophthalmia Goitres</td>\n",
       "            <td>1</td>\n",
       "        </tr>\n",
       "        <tr>\n",
       "            <td>1827 Of The Brain</td>\n",
       "            <td>1</td>\n",
       "        </tr>\n",
       "    </tbody>\n",
       "</table>"
      ],
      "text/plain": [
       "[(None, 14530),\n",
       " ('& Bese', 1),\n",
       " ('& Prolonged Labor', 1),\n",
       " ('(1) Old Age (2) Diarrhoea ', 1),\n",
       " ('(Accidental) Mercury Bichloride', 1),\n",
       " ('(Charity Hospital) Brights ', 1),\n",
       " ('(Heart Failure ) Typhoid Fever', 1),\n",
       " ('(Non Contagious)', 1),\n",
       " ('(Post Operation) Exophthalmia Goitres', 1),\n",
       " ('1827 Of The Brain', 1)]"
      ]
     },
     "execution_count": 10,
     "metadata": {},
     "output_type": "execute_result"
    }
   ],
   "source": [
    "%%sql\n",
    "\n",
    "select cause_of_death_display as cause_of_death, count(*) as records\n",
    "from interments\n",
    "group by cause_of_death_display\n",
    "order by 1 \n",
    "limit 10"
   ]
  },
  {
   "cell_type": "code",
   "execution_count": 11,
   "metadata": {},
   "outputs": [
    {
     "data": {
      "text/html": [
       "<table>\n",
       "    <thead>\n",
       "        <tr>\n",
       "            <th>Count</th>\n",
       "        </tr>\n",
       "    </thead>\n",
       "    <tbody>\n",
       "        <tr>\n",
       "            <td>433848</td>\n",
       "        </tr>\n",
       "    </tbody>\n",
       "</table>"
      ],
      "text/plain": [
       "[(433848,)]"
      ]
     },
     "execution_count": 11,
     "metadata": {},
     "output_type": "execute_result"
    }
   ],
   "source": [
    "%%sql\n",
    "\n",
    "update interments\n",
    "set cause_of_death_display = ltrim(replace(cause_of_death_display, '\"', ''))"
   ]
  },
  {
   "cell_type": "code",
   "execution_count": 12,
   "metadata": {},
   "outputs": [
    {
     "data": {
      "text/html": [
       "<table>\n",
       "    <thead>\n",
       "        <tr>\n",
       "            <th>Count</th>\n",
       "        </tr>\n",
       "    </thead>\n",
       "    <tbody>\n",
       "        <tr>\n",
       "            <td>0</td>\n",
       "        </tr>\n",
       "    </tbody>\n",
       "</table>"
      ],
      "text/plain": [
       "[(0,)]"
      ]
     },
     "execution_count": 12,
     "metadata": {},
     "output_type": "execute_result"
    }
   ],
   "source": [
    "%%sql\n",
    "\n",
    "update interments\n",
    "set cause_of_death_display = NULL\n",
    "where cause_of_death_display = '' \n",
    "or cause_of_death_display = '-'\n",
    "or cause_of_death_display = '- P' "
   ]
  },
  {
   "cell_type": "code",
   "execution_count": 13,
   "metadata": {},
   "outputs": [
    {
     "data": {
      "text/html": [
       "<table>\n",
       "    <thead>\n",
       "        <tr>\n",
       "            <th>cause_of_death_display</th>\n",
       "            <th>ltrim(regexp_replace(cause_of_death_display, &#x27;[0-9]&#x27;, &#x27;&#x27;, &#x27;g&#x27;))</th>\n",
       "        </tr>\n",
       "    </thead>\n",
       "    <tbody>\n",
       "        <tr>\n",
       "            <td>1827 Of The Brain</td>\n",
       "            <td>Of The Brain</td>\n",
       "        </tr>\n",
       "        <tr>\n",
       "            <td>1863 Dysentery</td>\n",
       "            <td>Dysentery</td>\n",
       "        </tr>\n",
       "        <tr>\n",
       "            <td>1871 Scarlatina</td>\n",
       "            <td>Scarlatina</td>\n",
       "        </tr>\n",
       "        <tr>\n",
       "            <td>1878 Fatty Heart</td>\n",
       "            <td>Fatty Heart</td>\n",
       "        </tr>\n",
       "        <tr>\n",
       "            <td>1878 Asthenia Meningitis</td>\n",
       "            <td>Asthenia Meningitis</td>\n",
       "        </tr>\n",
       "        <tr>\n",
       "            <td>1879 Convulsions</td>\n",
       "            <td>Convulsions</td>\n",
       "        </tr>\n",
       "        <tr>\n",
       "            <td>1879 Peritonitis</td>\n",
       "            <td>Peritonitis</td>\n",
       "        </tr>\n",
       "        <tr>\n",
       "            <td>1879 Brights</td>\n",
       "            <td>Brights</td>\n",
       "        </tr>\n",
       "        <tr>\n",
       "            <td>1849 Consumption</td>\n",
       "            <td>Consumption</td>\n",
       "        </tr>\n",
       "    </tbody>\n",
       "</table>"
      ],
      "text/plain": [
       "[('1827 Of The Brain', 'Of The Brain'),\n",
       " ('1863 Dysentery', 'Dysentery'),\n",
       " ('1871 Scarlatina', 'Scarlatina'),\n",
       " ('1878 Fatty Heart', 'Fatty Heart'),\n",
       " ('1878 Asthenia Meningitis', 'Asthenia Meningitis'),\n",
       " ('1879 Convulsions', 'Convulsions'),\n",
       " ('1879 Peritonitis', 'Peritonitis'),\n",
       " ('1879 Brights', 'Brights'),\n",
       " ('1849 Consumption', 'Consumption')]"
      ]
     },
     "execution_count": 13,
     "metadata": {},
     "output_type": "execute_result"
    }
   ],
   "source": [
    "%%sql\n",
    "\n",
    "select cause_of_death_display, ltrim(regexp_replace(cause_of_death_display,'[0-9]','','g'))\n",
    "from interments\n",
    "where cause_of_death_display like '1%'"
   ]
  },
  {
   "cell_type": "code",
   "execution_count": 17,
   "metadata": {},
   "outputs": [
    {
     "data": {
      "text/html": [
       "<table>\n",
       "    <thead>\n",
       "        <tr>\n",
       "            <th>cause_of_death</th>\n",
       "            <th>records</th>\n",
       "        </tr>\n",
       "    </thead>\n",
       "    <tbody>\n",
       "        <tr>\n",
       "            <td>None</td>\n",
       "            <td>14530</td>\n",
       "        </tr>\n",
       "        <tr>\n",
       "            <td>&amp; Bese</td>\n",
       "            <td>1</td>\n",
       "        </tr>\n",
       "        <tr>\n",
       "            <td>&amp; Prolonged Labor</td>\n",
       "            <td>1</td>\n",
       "        </tr>\n",
       "        <tr>\n",
       "            <td>(1) Old Age (2) Diarrhoea </td>\n",
       "            <td>1</td>\n",
       "        </tr>\n",
       "        <tr>\n",
       "            <td>(Accidental) Mercury Bichloride</td>\n",
       "            <td>1</td>\n",
       "        </tr>\n",
       "        <tr>\n",
       "            <td>(Charity Hospital) Brights </td>\n",
       "            <td>1</td>\n",
       "        </tr>\n",
       "        <tr>\n",
       "            <td>(Heart Failure ) Typhoid Fever</td>\n",
       "            <td>1</td>\n",
       "        </tr>\n",
       "        <tr>\n",
       "            <td>(Non Contagious)</td>\n",
       "            <td>1</td>\n",
       "        </tr>\n",
       "        <tr>\n",
       "            <td>(Post Operation) Exophthalmia Goitres</td>\n",
       "            <td>1</td>\n",
       "        </tr>\n",
       "        <tr>\n",
       "            <td>1827 Of The Brain</td>\n",
       "            <td>1</td>\n",
       "        </tr>\n",
       "    </tbody>\n",
       "</table>"
      ],
      "text/plain": [
       "[(None, 14530),\n",
       " ('& Bese', 1),\n",
       " ('& Prolonged Labor', 1),\n",
       " ('(1) Old Age (2) Diarrhoea ', 1),\n",
       " ('(Accidental) Mercury Bichloride', 1),\n",
       " ('(Charity Hospital) Brights ', 1),\n",
       " ('(Heart Failure ) Typhoid Fever', 1),\n",
       " ('(Non Contagious)', 1),\n",
       " ('(Post Operation) Exophthalmia Goitres', 1),\n",
       " ('1827 Of The Brain', 1)]"
      ]
     },
     "execution_count": 17,
     "metadata": {},
     "output_type": "execute_result"
    }
   ],
   "source": [
    "%%sql\n",
    "\n",
    "select cause_of_death_display as cause_of_death, count(*) as records\n",
    "from interments\n",
    "group by cause_of_death_display\n",
    "order by 1\n",
    "limit 10"
   ]
  },
  {
   "cell_type": "code",
   "execution_count": 19,
   "metadata": {},
   "outputs": [
    {
     "data": {
      "text/html": [
       "<table>\n",
       "    <thead>\n",
       "        <tr>\n",
       "            <th>column_name</th>\n",
       "        </tr>\n",
       "    </thead>\n",
       "    <tbody>\n",
       "        <tr>\n",
       "            <td>age_years_transcribed</td>\n",
       "        </tr>\n",
       "        <tr>\n",
       "            <td>age_months_transcribed</td>\n",
       "        </tr>\n",
       "        <tr>\n",
       "            <td>age_days_transcribed</td>\n",
       "        </tr>\n",
       "        <tr>\n",
       "            <td>age_hours_transcribed</td>\n",
       "        </tr>\n",
       "        <tr>\n",
       "            <td>age_display</td>\n",
       "        </tr>\n",
       "        <tr>\n",
       "            <td>age_years</td>\n",
       "        </tr>\n",
       "        <tr>\n",
       "            <td>age_months</td>\n",
       "        </tr>\n",
       "        <tr>\n",
       "            <td>age_days</td>\n",
       "        </tr>\n",
       "        <tr>\n",
       "            <td>age_hours</td>\n",
       "        </tr>\n",
       "    </tbody>\n",
       "</table>"
      ],
      "text/plain": [
       "[('age_years_transcribed',),\n",
       " ('age_months_transcribed',),\n",
       " ('age_days_transcribed',),\n",
       " ('age_hours_transcribed',),\n",
       " ('age_display',),\n",
       " ('age_years',),\n",
       " ('age_months',),\n",
       " ('age_days',),\n",
       " ('age_hours',)]"
      ]
     },
     "execution_count": 19,
     "metadata": {},
     "output_type": "execute_result"
    }
   ],
   "source": [
    "%%sql \n",
    "\n",
    "select column_name\n",
    "from information_schema.columns\n",
    "where table_name = 'interments'\n",
    "and column_name like 'a%'"
   ]
  },
  {
   "cell_type": "code",
   "execution_count": 46,
   "metadata": {},
   "outputs": [
    {
     "data": {
      "text/html": [
       "<table>\n",
       "    <thead>\n",
       "        <tr>\n",
       "            <th>interment_id</th>\n",
       "            <th>registry_volume</th>\n",
       "            <th>registry_image</th>\n",
       "            <th>age_years</th>\n",
       "            <th>age_years_transcribed</th>\n",
       "            <th>age_display</th>\n",
       "        </tr>\n",
       "    </thead>\n",
       "    <tbody>\n",
       "        <tr>\n",
       "            <td>406593</td>\n",
       "            <td>56.0</td>\n",
       "            <td>Volume 56_093</td>\n",
       "            <td>779</td>\n",
       "            <td>779</td>\n",
       "            <td>779 years, 5 days</td>\n",
       "        </tr>\n",
       "        <tr>\n",
       "            <td>9864.0</td>\n",
       "            <td>1.0</td>\n",
       "            <td>Volume 01_221</td>\n",
       "            <td>339</td>\n",
       "            <td>339</td>\n",
       "            <td>339 years, 8 months, 13 days</td>\n",
       "        </tr>\n",
       "        <tr>\n",
       "            <td>375371</td>\n",
       "            <td>52.0</td>\n",
       "            <td>Volume 52_042</td>\n",
       "            <td>788</td>\n",
       "            <td>788</td>\n",
       "            <td>788 years, 5 months, 13 days</td>\n",
       "        </tr>\n",
       "        <tr>\n",
       "            <td>384834</td>\n",
       "            <td>53.0</td>\n",
       "            <td>Volume 53_097</td>\n",
       "            <td>664</td>\n",
       "            <td>664</td>\n",
       "            <td>664 years, 2 months, 8 days</td>\n",
       "        </tr>\n",
       "        <tr>\n",
       "            <td>349562.0</td>\n",
       "            <td>49.0</td>\n",
       "            <td>Volume 49_026</td>\n",
       "            <td>809</td>\n",
       "            <td>809</td>\n",
       "            <td>809 years, 1 month</td>\n",
       "        </tr>\n",
       "        <tr>\n",
       "            <td>394535.0</td>\n",
       "            <td>55.0</td>\n",
       "            <td>Volume 55_041</td>\n",
       "            <td>862</td>\n",
       "            <td>862</td>\n",
       "            <td>862 years, 19 months</td>\n",
       "        </tr>\n",
       "        <tr>\n",
       "            <td>311572</td>\n",
       "            <td>43.0</td>\n",
       "            <td>Volume 43_056</td>\n",
       "            <td>789</td>\n",
       "            <td>789</td>\n",
       "            <td>789 years</td>\n",
       "        </tr>\n",
       "        <tr>\n",
       "            <td>311619</td>\n",
       "            <td>43.0</td>\n",
       "            <td>Volume 43_057</td>\n",
       "            <td>289</td>\n",
       "            <td>289</td>\n",
       "            <td>289 years, 6 months</td>\n",
       "        </tr>\n",
       "    </tbody>\n",
       "</table>"
      ],
      "text/plain": [
       "[('406593', 56.0, 'Volume 56_093', 779, '779', '779 years, 5 days'),\n",
       " ('9864.0', 1.0, 'Volume 01_221', 339, '339', '339 years, 8 months, 13 days'),\n",
       " ('375371', 52.0, 'Volume 52_042', 788, '788', '788 years, 5 months, 13 days'),\n",
       " ('384834', 53.0, 'Volume 53_097', 664, '664', '664 years, 2 months, 8 days'),\n",
       " ('349562.0', 49.0, 'Volume 49_026', 809, '809', '809 years, 1 month'),\n",
       " ('394535.0', 55.0, 'Volume 55_041', 862, '862', '862 years, 19 months'),\n",
       " ('311572', 43.0, 'Volume 43_056', 789, '789', '789 years'),\n",
       " ('311619', 43.0, 'Volume 43_057', 289, '289', '289 years, 6 months')]"
      ]
     },
     "execution_count": 46,
     "metadata": {},
     "output_type": "execute_result"
    }
   ],
   "source": [
    "%%sql\n",
    "\n",
    "with raw_data as (\n",
    "SELECT interment_id, registry_volume, registry_image, try_cast(age_years_transcribed as integer) as age_years, age_years_transcribed, age_display\n",
    "FROM interments)\n",
    "select * from raw_data\n",
    "where age_years > 117"
   ]
  }
 ],
 "metadata": {
  "kernelspec": {
   "display_name": "venv",
   "language": "python",
   "name": "python3"
  },
  "language_info": {
   "codemirror_mode": {
    "name": "ipython",
    "version": 3
   },
   "file_extension": ".py",
   "mimetype": "text/x-python",
   "name": "python",
   "nbconvert_exporter": "python",
   "pygments_lexer": "ipython3",
   "version": "3.9.6"
  },
  "orig_nbformat": 4
 },
 "nbformat": 4,
 "nbformat_minor": 2
}

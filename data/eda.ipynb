{
 "cells": [
  {
   "attachments": {},
   "cell_type": "markdown",
   "metadata": {},
   "source": [
    "# Exploratory Data Analysis of the Greenwood Data"
   ]
  },
  {
   "attachments": {},
   "cell_type": "markdown",
   "metadata": {},
   "source": [
    "This Exploratory Data Analysis is being done to help with the spot check of certain columns to identify data that needs to be fixed.\n",
    "\n",
    "We will follow the steps below:\n",
    "- Load all the volumes data into one DataFrame\n",
    "- Select the columns that we are going to work on\n",
    "- Identify the unique values on each column with the counts\n",
    "- Will select the burial records that contains the cases we want to fix\n",
    "- Fix the records\n",
    "- Generate a new json file with the fixes to update our interments index"
   ]
  },
  {
   "attachments": {},
   "cell_type": "markdown",
   "metadata": {},
   "source": [
    "## Initializing the Notebook"
   ]
  },
  {
   "cell_type": "code",
   "execution_count": 1,
   "metadata": {},
   "outputs": [],
   "source": [
    "import pandas as pd\n",
    "import os\n",
    "import duckdb\n",
    "\n",
    "%load_ext sql"
   ]
  },
  {
   "attachments": {},
   "cell_type": "markdown",
   "metadata": {},
   "source": [
    "### Initialize the sql database"
   ]
  },
  {
   "cell_type": "code",
   "execution_count": 2,
   "metadata": {},
   "outputs": [
    {
     "name": "stdout",
     "output_type": "stream",
     "text": [
      "*  duckdb:///sqlite/db.duckdb\n",
      "Done.\n"
     ]
    }
   ],
   "source": [
    "%sql duckdb:///sqlite/db.duckdb\n",
    "\n",
    "%sql SET GLOBAL pandas_analyze_sample=600000\n",
    "\n",
    "%config SqlMagic.feedback = False\n",
    "%config SqlMagic.displaycon = False\n",
    "\n",
    "load_volumes = True"
   ]
  },
  {
   "attachments": {},
   "cell_type": "markdown",
   "metadata": {},
   "source": [
    "## Loading all volumes"
   ]
  },
  {
   "attachments": {},
   "cell_type": "markdown",
   "metadata": {},
   "source": [
    "We are going to load all volumes json files into one single in memory structure called DataFrame, that will give us analytical capabilities to identify the values on each column and to fix, if needed."
   ]
  },
  {
   "cell_type": "code",
   "execution_count": 3,
   "metadata": {},
   "outputs": [],
   "source": [
    "if load_volumes:\n",
    "  records = []\n",
    "  for file in os.listdir('json'):\n",
    "    records.append(pd.read_json(os.path.join('json',file)))\n",
    "\n",
    "  df = pd.concat(records)"
   ]
  },
  {
   "attachments": {},
   "cell_type": "markdown",
   "metadata": {},
   "source": [
    "Now, we are going to import into duckdb, to be able to use SQL to do our validation."
   ]
  },
  {
   "cell_type": "code",
   "execution_count": 4,
   "metadata": {},
   "outputs": [],
   "source": [
    "if load_volumes:\n",
    "  %sql drop table if exists interments;\n",
    "\n",
    "  %sql create table interments as select * from df;"
   ]
  },
  {
   "attachments": {},
   "cell_type": "markdown",
   "metadata": {},
   "source": [
    "## Identify Columns to Work"
   ]
  },
  {
   "attachments": {},
   "cell_type": "markdown",
   "metadata": {},
   "source": [
    "Our first step to identify the columns we want to work with. We will do this by looking the columns in the search filters of the website.\n",
    "The columns we identify there are:\n",
    "- date of interment\n",
    "- birthplace\n",
    "- marital status\n",
    "- age at death\n",
    "- late residence\n",
    "- place of death\n",
    "- cause of death\n",
    "- date of death\n",
    "- undertaker\n",
    "- burial registry\n",
    "- lot number"
   ]
  },
  {
   "attachments": {},
   "cell_type": "markdown",
   "metadata": {},
   "source": [
    "Next step is to list the columns on our DataFrame."
   ]
  },
  {
   "cell_type": "code",
   "execution_count": 5,
   "metadata": {},
   "outputs": [
    {
     "name": "stdout",
     "output_type": "stream",
     "text": [
      "interment_id, registry_image, interment_date_month_transcribed, interment_date_day_transcribed, interment_date_year_transcribed, interment_date_display, interment_date_iso, \n",
      "name_transcribed, name_display, name_last, name_first, name_middle, name_salutation, name_suffix, \n",
      "is_lot_owner, gender_guess, burial_location_lot_transcribed, burial_location_lot_current, burial_location_lot_previous, burial_location_grave_transcribed, burial_location_grave_current, \n",
      "burial_location_grave_previous, birth_place_transcribed, birth_place_displayed, birth_geo_formatted_address, birth_geo_is_faulty, birth_geo_street_number, birth_geo_street_name_long, \n",
      "birth_geo_street_name_short, birth_geo_neighborhood, birth_geo_city, birth_geo_county, birth_geo_state_short, birth_geo_state_long, birth_geo_country_long, \n",
      "birth_geo_country_short, birth_geo_zip, birth_geo_place_id, birth_geo_formatted_address_extra, birth_place_geo_location, age_years_transcribed, age_months_transcribed, \n",
      "age_days_transcribed, age_hours_transcribed, age_display, age_years, age_months, age_days, age_hours, \n",
      "marital_status_married_transcribed, marital_status_single_transcribed, marital_status, residence_place_city_transcribed, residence_place_city_display, residence_place_street_transcribed, residence_place_street_display, \n",
      "residence_place_geo_formatted_address, residence_place_geo_is_faulty, residence_place_geo_street_number, residence_place_geo_street_number_long, residence_place_geo_street_number_short, residence_place_geo_neighborhood, residence_place_geo_city, \n",
      "residence_place_geo_county, residence_place_geo_state_short, residence_place_geo_state_long, residence_place_geo_country_long, residence_place_geo_country_short, residence_place_geo_zip, residence_place_geo_place_id, \n",
      "residence_place_geo_formatted_address_extra, residence_place_geo_location, death_place_transcribed, death_place_display, death_place_geo_formatted_address, death_place_geo_is_faulty, death_place_geo_street_number, \n",
      "death_place_geo_street_number_long, death_place_geo_street_number_short, death_place_geo_neighborhood, death_place_geo_city, death_place_geo_county, death_place_geo_state_short, death_place_geo_state_long, \n",
      "death_place_geo_country_long, death_place_geo_country_short, death_place_geo_zip, death_place_geo_place_id, death_place_geo_formatted_address_extra, death_place_geo_location, death_date_month_transcribed, \n",
      "death_date_day_transcribed, death_date_year_transcribed, death_date_display, death_date_iso, death_date_ult_month, cause_of_death_transcribed, cause_of_death_display, \n",
      "undertaker_transcribed, undertaker_display, remarks_transcribed, remarks_display, burial_origin, has_diagram, cemetery, \n",
      "registry_volume, death_day, death_month, death_year, registry_page, display_title, birth_day, \n",
      "birth_month, birth_year, birth_circa, birth_city, birth_state, birth_state_full, birth_county, \n",
      "birth_country, birth_country_full, birth_place, birth_lat, birth_lon, biographical_text, gravestone_transcription, \n",
      "death_cause, comments, death_date, death_city, death_county, death_state, death_state_full, \n",
      "place_of_death, death_lat, death_lon, death_certificate, death_circa, forename, surname, \n",
      "maiden_name, middle_name, obit_day, obit_month, obit_source, obit_transcription, obit_year, \n",
      "notes, grave_location, sources, "
     ]
    }
   ],
   "source": [
    "if load_volumes:\n",
    "  columns = df.columns.to_list()\n",
    "\n",
    "  for idx, column in enumerate(columns):\n",
    "    print(column,end=', ')\n",
    "    if (idx+1) % 7 == 0:\n",
    "        print('')"
   ]
  },
  {
   "attachments": {},
   "cell_type": "markdown",
   "metadata": {},
   "source": [
    "Now, we are going to map the columns we want.\n",
    "- date of interment = interment_date_year_transcribed\n",
    "- birthplace = birth_place_display\n",
    "- marital status = marital_status [x]\n",
    "- age at death = age_years [x]\n",
    "- late residence = residence_place_city_display\n",
    "- place of death = death_place_display\n",
    "- cause of death = cause_of_death_display [x]\n",
    "- date of death = death_date_year_transcribed [x]\n",
    "- undertaker = undertaker_display\n",
    "- burial registry = interment_id, registry_volume\n",
    "- lot number = burial_location_lot_current\n"
   ]
  },
  {
   "attachments": {},
   "cell_type": "markdown",
   "metadata": {},
   "source": [
    "Now, we are going to work with SQL statements to discover issues with the data on those fields."
   ]
  },
  {
   "attachments": {},
   "cell_type": "markdown",
   "metadata": {},
   "source": [
    "### Scratchpad"
   ]
  },
  {
   "cell_type": "code",
   "execution_count": 6,
   "metadata": {},
   "outputs": [
    {
     "data": {
      "text/html": [
       "<table>\n",
       "    <thead>\n",
       "        <tr>\n",
       "            <th>count_star()</th>\n",
       "        </tr>\n",
       "    </thead>\n",
       "    <tbody>\n",
       "        <tr>\n",
       "            <td>0</td>\n",
       "        </tr>\n",
       "    </tbody>\n",
       "</table>"
      ],
      "text/plain": [
       "[(0,)]"
      ]
     },
     "execution_count": 6,
     "metadata": {},
     "output_type": "execute_result"
    }
   ],
   "source": [
    "%%sql\n",
    "\n",
    "select count(*)\n",
    "from interments\n",
    "where cause_of_death_display = '' \n",
    "or cause_of_death_display = '-'\n",
    "or cause_of_death_display = '- P' "
   ]
  },
  {
   "cell_type": "code",
   "execution_count": 7,
   "metadata": {},
   "outputs": [
    {
     "data": {
      "text/html": [
       "<table>\n",
       "    <thead>\n",
       "        <tr>\n",
       "            <th>count_star()</th>\n",
       "        </tr>\n",
       "    </thead>\n",
       "    <tbody>\n",
       "        <tr>\n",
       "            <td>0</td>\n",
       "        </tr>\n",
       "    </tbody>\n",
       "</table>"
      ],
      "text/plain": [
       "[(0,)]"
      ]
     },
     "execution_count": 7,
     "metadata": {},
     "output_type": "execute_result"
    }
   ],
   "source": [
    "%%sql\n",
    "\n",
    "select count(*)\n",
    "from interments\n",
    "where cause_of_death_display like '1%' or \n",
    "cause_of_death_display like '2%' or\n",
    "cause_of_death_display like '3%' or\n",
    "cause_of_death_display like '4%' or\n",
    "cause_of_death_display like '5%' or\n",
    "cause_of_death_display like '6%' or\n",
    "cause_of_death_display like '7%' or\n",
    "cause_of_death_display like '8%' or\n",
    "cause_of_death_display like '9%' or\n",
    "cause_of_death_display like '0%'"
   ]
  },
  {
   "cell_type": "code",
   "execution_count": 8,
   "metadata": {},
   "outputs": [
    {
     "data": {
      "text/html": [
       "<table>\n",
       "    <thead>\n",
       "        <tr>\n",
       "            <th>cause_of_death</th>\n",
       "            <th>records</th>\n",
       "        </tr>\n",
       "    </thead>\n",
       "    <tbody>\n",
       "        <tr>\n",
       "            <td>None</td>\n",
       "            <td>14538</td>\n",
       "        </tr>\n",
       "        <tr>\n",
       "            <td>&amp; Bese</td>\n",
       "            <td>1</td>\n",
       "        </tr>\n",
       "        <tr>\n",
       "            <td>&amp; Prolonged Labor</td>\n",
       "            <td>1</td>\n",
       "        </tr>\n",
       "        <tr>\n",
       "            <td>() Old Age () Diarrhoea</td>\n",
       "            <td>1</td>\n",
       "        </tr>\n",
       "        <tr>\n",
       "            <td>(Accidental) Mercury Bichloride</td>\n",
       "            <td>1</td>\n",
       "        </tr>\n",
       "        <tr>\n",
       "            <td>(Charity Hospital) Brights</td>\n",
       "            <td>1</td>\n",
       "        </tr>\n",
       "        <tr>\n",
       "            <td>(Heart Failure ) Typhoid Fever</td>\n",
       "            <td>1</td>\n",
       "        </tr>\n",
       "        <tr>\n",
       "            <td>(Non Contagious)</td>\n",
       "            <td>1</td>\n",
       "        </tr>\n",
       "        <tr>\n",
       "            <td>(Post Operation) Exophthalmia Goitres</td>\n",
       "            <td>1</td>\n",
       "        </tr>\n",
       "        <tr>\n",
       "            <td>A</td>\n",
       "            <td>1</td>\n",
       "        </tr>\n",
       "    </tbody>\n",
       "</table>"
      ],
      "text/plain": [
       "[(None, 14538),\n",
       " ('& Bese', 1),\n",
       " ('& Prolonged Labor', 1),\n",
       " ('() Old Age () Diarrhoea', 1),\n",
       " ('(Accidental) Mercury Bichloride', 1),\n",
       " ('(Charity Hospital) Brights', 1),\n",
       " ('(Heart Failure ) Typhoid Fever', 1),\n",
       " ('(Non Contagious)', 1),\n",
       " ('(Post Operation) Exophthalmia Goitres', 1),\n",
       " ('A', 1)]"
      ]
     },
     "execution_count": 8,
     "metadata": {},
     "output_type": "execute_result"
    }
   ],
   "source": [
    "%%sql\n",
    "\n",
    "select cause_of_death_display as cause_of_death, count(*) as records\n",
    "from interments\n",
    "group by cause_of_death_display\n",
    "order by 1\n",
    "limit 10"
   ]
  },
  {
   "cell_type": "code",
   "execution_count": 9,
   "metadata": {},
   "outputs": [
    {
     "data": {
      "text/html": [
       "<table>\n",
       "    <thead>\n",
       "        <tr>\n",
       "            <th>column_name</th>\n",
       "        </tr>\n",
       "    </thead>\n",
       "    <tbody>\n",
       "        <tr>\n",
       "            <td>age_years_transcribed</td>\n",
       "        </tr>\n",
       "        <tr>\n",
       "            <td>age_months_transcribed</td>\n",
       "        </tr>\n",
       "        <tr>\n",
       "            <td>age_days_transcribed</td>\n",
       "        </tr>\n",
       "        <tr>\n",
       "            <td>age_hours_transcribed</td>\n",
       "        </tr>\n",
       "        <tr>\n",
       "            <td>age_display</td>\n",
       "        </tr>\n",
       "        <tr>\n",
       "            <td>age_years</td>\n",
       "        </tr>\n",
       "        <tr>\n",
       "            <td>age_months</td>\n",
       "        </tr>\n",
       "        <tr>\n",
       "            <td>age_days</td>\n",
       "        </tr>\n",
       "        <tr>\n",
       "            <td>age_hours</td>\n",
       "        </tr>\n",
       "    </tbody>\n",
       "</table>"
      ],
      "text/plain": [
       "[('age_years_transcribed',),\n",
       " ('age_months_transcribed',),\n",
       " ('age_days_transcribed',),\n",
       " ('age_hours_transcribed',),\n",
       " ('age_display',),\n",
       " ('age_years',),\n",
       " ('age_months',),\n",
       " ('age_days',),\n",
       " ('age_hours',)]"
      ]
     },
     "execution_count": 9,
     "metadata": {},
     "output_type": "execute_result"
    }
   ],
   "source": [
    "%%sql \n",
    "\n",
    "select column_name\n",
    "from information_schema.columns\n",
    "where table_name = 'interments'\n",
    "and column_name like 'a%'"
   ]
  },
  {
   "cell_type": "code",
   "execution_count": 10,
   "metadata": {},
   "outputs": [
    {
     "data": {
      "text/html": [
       "<table>\n",
       "    <thead>\n",
       "        <tr>\n",
       "            <th>interment_id</th>\n",
       "            <th>registry_volume</th>\n",
       "            <th>registry_image</th>\n",
       "            <th>age_years</th>\n",
       "            <th>age_years_converted</th>\n",
       "            <th>age_years_transcribed</th>\n",
       "            <th>age_display</th>\n",
       "        </tr>\n",
       "    </thead>\n",
       "    <tbody>\n",
       "        <tr>\n",
       "            <td>406593</td>\n",
       "            <td>56.0</td>\n",
       "            <td>Volume 56_093</td>\n",
       "            <td>0</td>\n",
       "            <td>779</td>\n",
       "            <td>779</td>\n",
       "            <td>779 years, 5 days</td>\n",
       "        </tr>\n",
       "        <tr>\n",
       "            <td>9864.0</td>\n",
       "            <td>1.0</td>\n",
       "            <td>Volume 01_221</td>\n",
       "            <td>0</td>\n",
       "            <td>339</td>\n",
       "            <td>339</td>\n",
       "            <td>339 years, 8 months, 13 days</td>\n",
       "        </tr>\n",
       "        <tr>\n",
       "            <td>375371</td>\n",
       "            <td>52.0</td>\n",
       "            <td>Volume 52_042</td>\n",
       "            <td>0</td>\n",
       "            <td>788</td>\n",
       "            <td>788</td>\n",
       "            <td>788 years, 5 months, 13 days</td>\n",
       "        </tr>\n",
       "        <tr>\n",
       "            <td>384834</td>\n",
       "            <td>53.0</td>\n",
       "            <td>Volume 53_097</td>\n",
       "            <td>0</td>\n",
       "            <td>664</td>\n",
       "            <td>664</td>\n",
       "            <td>664 years, 2 months, 8 days</td>\n",
       "        </tr>\n",
       "        <tr>\n",
       "            <td>349562.0</td>\n",
       "            <td>49.0</td>\n",
       "            <td>Volume 49_026</td>\n",
       "            <td>0</td>\n",
       "            <td>809</td>\n",
       "            <td>809</td>\n",
       "            <td>809 years, 1 month</td>\n",
       "        </tr>\n",
       "        <tr>\n",
       "            <td>394535.0</td>\n",
       "            <td>55.0</td>\n",
       "            <td>Volume 55_041</td>\n",
       "            <td>0</td>\n",
       "            <td>862</td>\n",
       "            <td>862</td>\n",
       "            <td>862 years, 19 months</td>\n",
       "        </tr>\n",
       "        <tr>\n",
       "            <td>311572</td>\n",
       "            <td>43.0</td>\n",
       "            <td>Volume 43_056</td>\n",
       "            <td>0</td>\n",
       "            <td>789</td>\n",
       "            <td>789</td>\n",
       "            <td>789 years</td>\n",
       "        </tr>\n",
       "        <tr>\n",
       "            <td>311619</td>\n",
       "            <td>43.0</td>\n",
       "            <td>Volume 43_057</td>\n",
       "            <td>0</td>\n",
       "            <td>289</td>\n",
       "            <td>289</td>\n",
       "            <td>289 years, 6 months</td>\n",
       "        </tr>\n",
       "    </tbody>\n",
       "</table>"
      ],
      "text/plain": [
       "[('406593', 56.0, 'Volume 56_093', '0', 779, '779', '779 years, 5 days'),\n",
       " ('9864.0', 1.0, 'Volume 01_221', '0', 339, '339', '339 years, 8 months, 13 days'),\n",
       " ('375371', 52.0, 'Volume 52_042', '0', 788, '788', '788 years, 5 months, 13 days'),\n",
       " ('384834', 53.0, 'Volume 53_097', '0', 664, '664', '664 years, 2 months, 8 days'),\n",
       " ('349562.0', 49.0, 'Volume 49_026', '0', 809, '809', '809 years, 1 month'),\n",
       " ('394535.0', 55.0, 'Volume 55_041', '0', 862, '862', '862 years, 19 months'),\n",
       " ('311572', 43.0, 'Volume 43_056', '0', 789, '789', '789 years'),\n",
       " ('311619', 43.0, 'Volume 43_057', '0', 289, '289', '289 years, 6 months')]"
      ]
     },
     "execution_count": 10,
     "metadata": {},
     "output_type": "execute_result"
    }
   ],
   "source": [
    "%%sql\n",
    "\n",
    "with raw_data as (\n",
    "SELECT interment_id, registry_volume, registry_image, age_years, try_cast(age_years_transcribed as integer) as age_years_converted, age_years_transcribed, age_display\n",
    "FROM interments)\n",
    "select * from raw_data\n",
    "where age_years_converted > 117"
   ]
  },
  {
   "cell_type": "code",
   "execution_count": 11,
   "metadata": {},
   "outputs": [
    {
     "data": {
      "text/html": [
       "<table>\n",
       "    <thead>\n",
       "        <tr>\n",
       "            <th>marital_status</th>\n",
       "            <th>recs</th>\n",
       "        </tr>\n",
       "    </thead>\n",
       "    <tbody>\n",
       "        <tr>\n",
       "            <td>Widow</td>\n",
       "            <td>74211</td>\n",
       "        </tr>\n",
       "        <tr>\n",
       "            <td>Single</td>\n",
       "            <td>57426</td>\n",
       "        </tr>\n",
       "        <tr>\n",
       "            <td>Married</td>\n",
       "            <td>132309</td>\n",
       "        </tr>\n",
       "        <tr>\n",
       "            <td>Not recorded</td>\n",
       "            <td>168809</td>\n",
       "        </tr>\n",
       "        <tr>\n",
       "            <td>Divorced</td>\n",
       "            <td>408</td>\n",
       "        </tr>\n",
       "        <tr>\n",
       "            <td>Infant</td>\n",
       "            <td>19</td>\n",
       "        </tr>\n",
       "        <tr>\n",
       "            <td>Unknown</td>\n",
       "            <td>4</td>\n",
       "        </tr>\n",
       "        <tr>\n",
       "            <td>Separated</td>\n",
       "            <td>9</td>\n",
       "        </tr>\n",
       "        <tr>\n",
       "            <td>Marriage Annulled</td>\n",
       "            <td>1</td>\n",
       "        </tr>\n",
       "        <tr>\n",
       "            <td>Legally Separated</td>\n",
       "            <td>2</td>\n",
       "        </tr>\n",
       "        <tr>\n",
       "            <td>None</td>\n",
       "            <td>635</td>\n",
       "        </tr>\n",
       "        <tr>\n",
       "            <td>Child</td>\n",
       "            <td>15</td>\n",
       "        </tr>\n",
       "    </tbody>\n",
       "</table>"
      ],
      "text/plain": [
       "[('Widow', 74211),\n",
       " ('Single', 57426),\n",
       " ('Married', 132309),\n",
       " ('Not recorded', 168809),\n",
       " ('Divorced', 408),\n",
       " ('Infant', 19),\n",
       " ('Unknown', 4),\n",
       " ('Separated', 9),\n",
       " ('Marriage Annulled', 1),\n",
       " ('Legally Separated', 2),\n",
       " (None, 635),\n",
       " ('Child', 15)]"
      ]
     },
     "execution_count": 11,
     "metadata": {},
     "output_type": "execute_result"
    }
   ],
   "source": [
    "%%sql\n",
    "\n",
    "select marital_status, count(*) as recs\n",
    "from interments\n",
    "group by marital_status"
   ]
  }
 ],
 "metadata": {
  "kernelspec": {
   "display_name": "venv",
   "language": "python",
   "name": "python3"
  },
  "language_info": {
   "codemirror_mode": {
    "name": "ipython",
    "version": 3
   },
   "file_extension": ".py",
   "mimetype": "text/x-python",
   "name": "python",
   "nbconvert_exporter": "python",
   "pygments_lexer": "ipython3",
   "version": "3.9.6"
  },
  "orig_nbformat": 4
 },
 "nbformat": 4,
 "nbformat_minor": 2
}
